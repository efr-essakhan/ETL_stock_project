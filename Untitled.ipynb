{
 "cells": [
  {
   "cell_type": "code",
   "execution_count": 2,
   "id": "ad639b04",
   "metadata": {},
   "outputs": [],
   "source": [
    "from datetime import datetime, timedelta"
   ]
  },
  {
   "cell_type": "code",
   "execution_count": 21,
   "id": "c0f467bf",
   "metadata": {},
   "outputs": [],
   "source": [
    "first_day = datetime(2021, 9, 1).date()\n",
    "today = datetime.today().date()"
   ]
  },
  {
   "cell_type": "code",
   "execution_count": 22,
   "id": "e59f0070",
   "metadata": {},
   "outputs": [
    {
     "data": {
      "text/plain": [
       "datetime.date(2021, 9, 1)"
      ]
     },
     "execution_count": 22,
     "metadata": {},
     "output_type": "execute_result"
    }
   ],
   "source": [
    "first_day"
   ]
  },
  {
   "cell_type": "code",
   "execution_count": 26,
   "id": "fc968ca3",
   "metadata": {},
   "outputs": [
    {
     "data": {
      "text/plain": [
       "datetime.date(2021, 9, 6)"
      ]
     },
     "execution_count": 26,
     "metadata": {},
     "output_type": "execute_result"
    }
   ],
   "source": [
    "today"
   ]
  },
  {
   "cell_type": "code",
   "execution_count": 50,
   "id": "f5cb2873",
   "metadata": {},
   "outputs": [],
   "source": [
    "#Creating a list of dates from first_date_minus1 until today\n",
    "list_date = [(today-timedelta(days=day_count)) for day_count in range(0, (today-first_day).days+1)]"
   ]
  },
  {
   "cell_type": "code",
   "execution_count": 56,
   "id": "e9917863",
   "metadata": {},
   "outputs": [
    {
     "data": {
      "text/plain": [
       "[datetime.date(2021, 9, 6),\n",
       " datetime.date(2021, 9, 5),\n",
       " datetime.date(2021, 9, 4),\n",
       " datetime.date(2021, 9, 3),\n",
       " datetime.date(2021, 9, 2),\n",
       " datetime.date(2021, 9, 1)]"
      ]
     },
     "execution_count": 56,
     "metadata": {},
     "output_type": "execute_result"
    }
   ],
   "source": [
    "list_date"
   ]
  },
  {
   "cell_type": "code",
   "execution_count": 55,
   "id": "0bb3e331",
   "metadata": {},
   "outputs": [
    {
     "data": {
      "text/plain": [
       "[datetime.date(2021, 9, 5),\n",
       " datetime.date(2021, 9, 4),\n",
       " datetime.date(2021, 9, 3),\n",
       " datetime.date(2021, 9, 2),\n",
       " datetime.date(2021, 9, 1)]"
      ]
     },
     "execution_count": 55,
     "metadata": {},
     "output_type": "execute_result"
    }
   ],
   "source": [
    "list_date[1:]"
   ]
  },
  {
   "cell_type": "code",
   "execution_count": 79,
   "id": "5f14a776",
   "metadata": {},
   "outputs": [],
   "source": [
    "l1 = [1,2,3]"
   ]
  },
  {
   "cell_type": "code",
   "execution_count": 80,
   "id": "646dd716",
   "metadata": {},
   "outputs": [],
   "source": [
    "l2 = l1.pop(1)"
   ]
  },
  {
   "cell_type": "code",
   "execution_count": 81,
   "id": "53c6892f",
   "metadata": {},
   "outputs": [
    {
     "data": {
      "text/plain": [
       "[1, 3]"
      ]
     },
     "execution_count": 81,
     "metadata": {},
     "output_type": "execute_result"
    }
   ],
   "source": [
    "l1"
   ]
  },
  {
   "cell_type": "code",
   "execution_count": 82,
   "id": "2406f445",
   "metadata": {},
   "outputs": [
    {
     "name": "stdout",
     "output_type": "stream",
     "text": [
      "2\n"
     ]
    }
   ],
   "source": [
    "print(l2)"
   ]
  },
  {
   "cell_type": "code",
   "execution_count": 87,
   "id": "da55a99d",
   "metadata": {},
   "outputs": [],
   "source": [
    "k=set(l1) - {1}"
   ]
  },
  {
   "cell_type": "code",
   "execution_count": 88,
   "id": "064cc802",
   "metadata": {
    "scrolled": true
   },
   "outputs": [
    {
     "data": {
      "text/plain": [
       "[1, 3]"
      ]
     },
     "execution_count": 88,
     "metadata": {},
     "output_type": "execute_result"
    }
   ],
   "source": [
    "l1"
   ]
  },
  {
   "cell_type": "code",
   "execution_count": 89,
   "id": "b1520f48",
   "metadata": {},
   "outputs": [
    {
     "data": {
      "text/plain": [
       "{3}"
      ]
     },
     "execution_count": 89,
     "metadata": {},
     "output_type": "execute_result"
    }
   ],
   "source": [
    "k"
   ]
  }
 ],
 "metadata": {
  "kernelspec": {
   "display_name": "Python 3 (ipykernel)",
   "language": "python",
   "name": "python3"
  },
  "language_info": {
   "codemirror_mode": {
    "name": "ipython",
    "version": 3
   },
   "file_extension": ".py",
   "mimetype": "text/x-python",
   "name": "python",
   "nbconvert_exporter": "python",
   "pygments_lexer": "ipython3",
   "version": "3.9.6"
  }
 },
 "nbformat": 4,
 "nbformat_minor": 5
}
