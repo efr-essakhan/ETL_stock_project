{
 "cells": [
  {
   "cell_type": "code",
   "execution_count": 24,
   "id": "27ebaac4",
   "metadata": {},
   "outputs": [],
   "source": [
    "input = 20 #represents a day of the same month\n",
    "today = 25"
   ]
  },
  {
   "cell_type": "code",
   "execution_count": 25,
   "id": "f38f3c66",
   "metadata": {},
   "outputs": [],
   "source": [
    "s3 = {17,18,19,20,21,22,23}\n",
    "\n",
    "dates = {25,24,23,22,21,20,19} #List of: Input-1 TO today (dates)"
   ]
  },
  {
   "cell_type": "code",
   "execution_count": 26,
   "id": "5116bbfc",
   "metadata": {},
   "outputs": [
    {
     "data": {
      "text/plain": [
       "{24, 25}"
      ]
     },
     "execution_count": 26,
     "metadata": {},
     "output_type": "execute_result"
    }
   ],
   "source": [
    "remaining_days = dates-s3\n",
    "remaining_days"
   ]
  },
  {
   "cell_type": "code",
   "execution_count": 27,
   "id": "700030ae",
   "metadata": {},
   "outputs": [
    {
     "data": {
      "text/plain": [
       "24"
      ]
     },
     "execution_count": 27,
     "metadata": {},
     "output_type": "execute_result"
    }
   ],
   "source": [
    "return_min_date = min(remaining_days)\n",
    "min_date"
   ]
  },
  {
   "cell_type": "code",
   "execution_count": 28,
   "id": "28b306a0",
   "metadata": {},
   "outputs": [
    {
     "data": {
      "text/plain": [
       "23"
      ]
     },
     "execution_count": 28,
     "metadata": {},
     "output_type": "execute_result"
    }
   ],
   "source": [
    "min_date_minus1 = 24-1\n",
    "min_date_minus1"
   ]
  },
  {
   "cell_type": "code",
   "execution_count": 30,
   "id": "c854c63a",
   "metadata": {},
   "outputs": [
    {
     "data": {
      "text/plain": [
       "[23, 24, 25]"
      ]
     },
     "execution_count": 30,
     "metadata": {},
     "output_type": "execute_result"
    }
   ],
   "source": [
    "return_dates =  [date for date in list(dates) if date >= min_date_minus1]\n",
    "return_dates"
   ]
  },
  {
   "cell_type": "code",
   "execution_count": null,
   "id": "a8e0fadd",
   "metadata": {},
   "outputs": [],
   "source": []
  }
 ],
 "metadata": {
  "kernelspec": {
   "display_name": "Python 3 (ipykernel)",
   "language": "python",
   "name": "python3"
  },
  "language_info": {
   "codemirror_mode": {
    "name": "ipython",
    "version": 3
   },
   "file_extension": ".py",
   "mimetype": "text/x-python",
   "name": "python",
   "nbconvert_exporter": "python",
   "pygments_lexer": "ipython3",
   "version": "3.9.6"
  }
 },
 "nbformat": 4,
 "nbformat_minor": 5
}
