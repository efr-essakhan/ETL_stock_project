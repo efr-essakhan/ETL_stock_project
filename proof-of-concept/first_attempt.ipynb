{
 "cells": [
  {
   "cell_type": "code",
   "execution_count": 15,
   "id": "87956abe",
   "metadata": {},
   "outputs": [],
   "source": [
    "import boto3\n",
    "import pandas as pd\n",
    "from io import StringIO, BytesIO\n",
    "from datetime import datetime, timedelta"
   ]
  },
  {
   "cell_type": "markdown",
   "id": "6d8fc2aa",
   "metadata": {},
   "source": [
    "## User Input Arugment"
   ]
  },
  {
   "cell_type": "code",
   "execution_count": 17,
   "id": "e69a360d",
   "metadata": {},
   "outputs": [],
   "source": [
    "#This input-argument used to: All data will be extracted since this date.\n",
    "arg_date = '2021-08-07'"
   ]
  },
  {
   "cell_type": "code",
   "execution_count": 18,
   "id": "ac500ae7",
   "metadata": {},
   "outputs": [],
   "source": [
    "#Above arg is a string but we want a date-time obj. We also in reality need the data for the day before to calculate the 'change in % previous days price' column\n",
    "\n",
    "arg_date_dt = datetime.strptime(arg_date, '%Y-%m-%d').date() - timedelta(days=1) #Convert string into datetime obj and get previous date"
   ]
  },
  {
   "cell_type": "code",
   "execution_count": 19,
   "id": "7a5800dd",
   "metadata": {
    "scrolled": true
   },
   "outputs": [
    {
     "data": {
      "text/plain": [
       "datetime.date(2021, 8, 6)"
      ]
     },
     "execution_count": 19,
     "metadata": {},
     "output_type": "execute_result"
    }
   ],
   "source": [
    "arg_date_dt #One day before input-argument!"
   ]
  },
  {
   "cell_type": "markdown",
   "id": "e8cfcc74",
   "metadata": {},
   "source": [
    "## Retrieving data from S3"
   ]
  },
  {
   "cell_type": "code",
   "execution_count": 20,
   "id": "0a2c9ba9",
   "metadata": {},
   "outputs": [],
   "source": [
    "s3 = boto3.resource('s3') #Have to do this always initally\n",
    "bucket = s3.Bucket('deutsche-boerse-xetra-pds') #Retrieve the bucket with name from the server."
   ]
  },
  {
   "cell_type": "code",
   "execution_count": 21,
   "id": "c312cc55",
   "metadata": {},
   "outputs": [],
   "source": [
    "#Get all objects in S3 bucket starting from arg_date_dt\n",
    "objects = [obj for obj in bucket.objects.all() if datetime.strptime(obj.key.split('/')[0], '%Y-%m-%d').date() >= arg_date_dt]"
   ]
  },
  {
   "cell_type": "code",
   "execution_count": 22,
   "id": "bf6b6496",
   "metadata": {},
   "outputs": [
    {
     "data": {
      "text/plain": [
       "[s3.ObjectSummary(bucket_name='deutsche-boerse-xetra-pds', key='2021-08-06/2021-08-06_BINS_XETR00.csv'),\n",
       " s3.ObjectSummary(bucket_name='deutsche-boerse-xetra-pds', key='2021-08-06/2021-08-06_BINS_XETR01.csv'),\n",
       " s3.ObjectSummary(bucket_name='deutsche-boerse-xetra-pds', key='2021-08-06/2021-08-06_BINS_XETR02.csv'),\n",
       " s3.ObjectSummary(bucket_name='deutsche-boerse-xetra-pds', key='2021-08-06/2021-08-06_BINS_XETR03.csv'),\n",
       " s3.ObjectSummary(bucket_name='deutsche-boerse-xetra-pds', key='2021-08-06/2021-08-06_BINS_XETR04.csv'),\n",
       " s3.ObjectSummary(bucket_name='deutsche-boerse-xetra-pds', key='2021-08-06/2021-08-06_BINS_XETR05.csv'),\n",
       " s3.ObjectSummary(bucket_name='deutsche-boerse-xetra-pds', key='2021-08-06/2021-08-06_BINS_XETR06.csv'),\n",
       " s3.ObjectSummary(bucket_name='deutsche-boerse-xetra-pds', key='2021-08-06/2021-08-06_BINS_XETR07.csv'),\n",
       " s3.ObjectSummary(bucket_name='deutsche-boerse-xetra-pds', key='2021-08-06/2021-08-06_BINS_XETR08.csv'),\n",
       " s3.ObjectSummary(bucket_name='deutsche-boerse-xetra-pds', key='2021-08-06/2021-08-06_BINS_XETR09.csv'),\n",
       " s3.ObjectSummary(bucket_name='deutsche-boerse-xetra-pds', key='2021-08-06/2021-08-06_BINS_XETR10.csv'),\n",
       " s3.ObjectSummary(bucket_name='deutsche-boerse-xetra-pds', key='2021-08-06/2021-08-06_BINS_XETR11.csv'),\n",
       " s3.ObjectSummary(bucket_name='deutsche-boerse-xetra-pds', key='2021-08-06/2021-08-06_BINS_XETR12.csv'),\n",
       " s3.ObjectSummary(bucket_name='deutsche-boerse-xetra-pds', key='2021-08-06/2021-08-06_BINS_XETR13.csv'),\n",
       " s3.ObjectSummary(bucket_name='deutsche-boerse-xetra-pds', key='2021-08-06/2021-08-06_BINS_XETR14.csv'),\n",
       " s3.ObjectSummary(bucket_name='deutsche-boerse-xetra-pds', key='2021-08-06/2021-08-06_BINS_XETR15.csv'),\n",
       " s3.ObjectSummary(bucket_name='deutsche-boerse-xetra-pds', key='2021-08-06/2021-08-06_BINS_XETR16.csv'),\n",
       " s3.ObjectSummary(bucket_name='deutsche-boerse-xetra-pds', key='2021-08-06/2021-08-06_BINS_XETR17.csv'),\n",
       " s3.ObjectSummary(bucket_name='deutsche-boerse-xetra-pds', key='2021-08-06/2021-08-06_BINS_XETR18.csv'),\n",
       " s3.ObjectSummary(bucket_name='deutsche-boerse-xetra-pds', key='2021-08-06/2021-08-06_BINS_XETR19.csv'),\n",
       " s3.ObjectSummary(bucket_name='deutsche-boerse-xetra-pds', key='2021-08-06/2021-08-06_BINS_XETR20.csv'),\n",
       " s3.ObjectSummary(bucket_name='deutsche-boerse-xetra-pds', key='2021-08-06/2021-08-06_BINS_XETR21.csv'),\n",
       " s3.ObjectSummary(bucket_name='deutsche-boerse-xetra-pds', key='2021-08-06/2021-08-06_BINS_XETR22.csv'),\n",
       " s3.ObjectSummary(bucket_name='deutsche-boerse-xetra-pds', key='2021-08-06/2021-08-06_BINS_XETR23.csv'),\n",
       " s3.ObjectSummary(bucket_name='deutsche-boerse-xetra-pds', key='2021-08-09/2021-08-09_BINS_XETR00.csv'),\n",
       " s3.ObjectSummary(bucket_name='deutsche-boerse-xetra-pds', key='2021-08-09/2021-08-09_BINS_XETR01.csv'),\n",
       " s3.ObjectSummary(bucket_name='deutsche-boerse-xetra-pds', key='2021-08-09/2021-08-09_BINS_XETR02.csv'),\n",
       " s3.ObjectSummary(bucket_name='deutsche-boerse-xetra-pds', key='2021-08-09/2021-08-09_BINS_XETR03.csv'),\n",
       " s3.ObjectSummary(bucket_name='deutsche-boerse-xetra-pds', key='2021-08-09/2021-08-09_BINS_XETR04.csv'),\n",
       " s3.ObjectSummary(bucket_name='deutsche-boerse-xetra-pds', key='2021-08-09/2021-08-09_BINS_XETR05.csv'),\n",
       " s3.ObjectSummary(bucket_name='deutsche-boerse-xetra-pds', key='2021-08-09/2021-08-09_BINS_XETR06.csv'),\n",
       " s3.ObjectSummary(bucket_name='deutsche-boerse-xetra-pds', key='2021-08-09/2021-08-09_BINS_XETR07.csv'),\n",
       " s3.ObjectSummary(bucket_name='deutsche-boerse-xetra-pds', key='2021-08-09/2021-08-09_BINS_XETR08.csv'),\n",
       " s3.ObjectSummary(bucket_name='deutsche-boerse-xetra-pds', key='2021-08-09/2021-08-09_BINS_XETR09.csv'),\n",
       " s3.ObjectSummary(bucket_name='deutsche-boerse-xetra-pds', key='2021-08-09/2021-08-09_BINS_XETR10.csv'),\n",
       " s3.ObjectSummary(bucket_name='deutsche-boerse-xetra-pds', key='2021-08-09/2021-08-09_BINS_XETR11.csv'),\n",
       " s3.ObjectSummary(bucket_name='deutsche-boerse-xetra-pds', key='2021-08-09/2021-08-09_BINS_XETR12.csv'),\n",
       " s3.ObjectSummary(bucket_name='deutsche-boerse-xetra-pds', key='2021-08-09/2021-08-09_BINS_XETR13.csv'),\n",
       " s3.ObjectSummary(bucket_name='deutsche-boerse-xetra-pds', key='2021-08-09/2021-08-09_BINS_XETR14.csv'),\n",
       " s3.ObjectSummary(bucket_name='deutsche-boerse-xetra-pds', key='2021-08-09/2021-08-09_BINS_XETR15.csv'),\n",
       " s3.ObjectSummary(bucket_name='deutsche-boerse-xetra-pds', key='2021-08-09/2021-08-09_BINS_XETR16.csv'),\n",
       " s3.ObjectSummary(bucket_name='deutsche-boerse-xetra-pds', key='2021-08-09/2021-08-09_BINS_XETR17.csv'),\n",
       " s3.ObjectSummary(bucket_name='deutsche-boerse-xetra-pds', key='2021-08-09/2021-08-09_BINS_XETR18.csv'),\n",
       " s3.ObjectSummary(bucket_name='deutsche-boerse-xetra-pds', key='2021-08-09/2021-08-09_BINS_XETR19.csv'),\n",
       " s3.ObjectSummary(bucket_name='deutsche-boerse-xetra-pds', key='2021-08-09/2021-08-09_BINS_XETR20.csv'),\n",
       " s3.ObjectSummary(bucket_name='deutsche-boerse-xetra-pds', key='2021-08-09/2021-08-09_BINS_XETR21.csv'),\n",
       " s3.ObjectSummary(bucket_name='deutsche-boerse-xetra-pds', key='2021-08-09/2021-08-09_BINS_XETR22.csv'),\n",
       " s3.ObjectSummary(bucket_name='deutsche-boerse-xetra-pds', key='2021-08-09/2021-08-09_BINS_XETR23.csv'),\n",
       " s3.ObjectSummary(bucket_name='deutsche-boerse-xetra-pds', key='2021-08-10/2021-08-10_BINS_XETR00.csv'),\n",
       " s3.ObjectSummary(bucket_name='deutsche-boerse-xetra-pds', key='2021-08-10/2021-08-10_BINS_XETR01.csv'),\n",
       " s3.ObjectSummary(bucket_name='deutsche-boerse-xetra-pds', key='2021-08-10/2021-08-10_BINS_XETR02.csv'),\n",
       " s3.ObjectSummary(bucket_name='deutsche-boerse-xetra-pds', key='2021-08-10/2021-08-10_BINS_XETR03.csv'),\n",
       " s3.ObjectSummary(bucket_name='deutsche-boerse-xetra-pds', key='2021-08-10/2021-08-10_BINS_XETR04.csv'),\n",
       " s3.ObjectSummary(bucket_name='deutsche-boerse-xetra-pds', key='2021-08-10/2021-08-10_BINS_XETR05.csv'),\n",
       " s3.ObjectSummary(bucket_name='deutsche-boerse-xetra-pds', key='2021-08-10/2021-08-10_BINS_XETR06.csv'),\n",
       " s3.ObjectSummary(bucket_name='deutsche-boerse-xetra-pds', key='2021-08-10/2021-08-10_BINS_XETR07.csv'),\n",
       " s3.ObjectSummary(bucket_name='deutsche-boerse-xetra-pds', key='2021-08-10/2021-08-10_BINS_XETR08.csv'),\n",
       " s3.ObjectSummary(bucket_name='deutsche-boerse-xetra-pds', key='2021-08-10/2021-08-10_BINS_XETR09.csv'),\n",
       " s3.ObjectSummary(bucket_name='deutsche-boerse-xetra-pds', key='2021-08-10/2021-08-10_BINS_XETR10.csv'),\n",
       " s3.ObjectSummary(bucket_name='deutsche-boerse-xetra-pds', key='2021-08-10/2021-08-10_BINS_XETR11.csv'),\n",
       " s3.ObjectSummary(bucket_name='deutsche-boerse-xetra-pds', key='2021-08-10/2021-08-10_BINS_XETR12.csv'),\n",
       " s3.ObjectSummary(bucket_name='deutsche-boerse-xetra-pds', key='2021-08-10/2021-08-10_BINS_XETR13.csv'),\n",
       " s3.ObjectSummary(bucket_name='deutsche-boerse-xetra-pds', key='2021-08-10/2021-08-10_BINS_XETR14.csv'),\n",
       " s3.ObjectSummary(bucket_name='deutsche-boerse-xetra-pds', key='2021-08-10/2021-08-10_BINS_XETR15.csv'),\n",
       " s3.ObjectSummary(bucket_name='deutsche-boerse-xetra-pds', key='2021-08-10/2021-08-10_BINS_XETR16.csv'),\n",
       " s3.ObjectSummary(bucket_name='deutsche-boerse-xetra-pds', key='2021-08-10/2021-08-10_BINS_XETR17.csv'),\n",
       " s3.ObjectSummary(bucket_name='deutsche-boerse-xetra-pds', key='2021-08-10/2021-08-10_BINS_XETR18.csv'),\n",
       " s3.ObjectSummary(bucket_name='deutsche-boerse-xetra-pds', key='2021-08-10/2021-08-10_BINS_XETR19.csv'),\n",
       " s3.ObjectSummary(bucket_name='deutsche-boerse-xetra-pds', key='2021-08-10/2021-08-10_BINS_XETR20.csv'),\n",
       " s3.ObjectSummary(bucket_name='deutsche-boerse-xetra-pds', key='2021-08-10/2021-08-10_BINS_XETR21.csv'),\n",
       " s3.ObjectSummary(bucket_name='deutsche-boerse-xetra-pds', key='2021-08-10/2021-08-10_BINS_XETR22.csv'),\n",
       " s3.ObjectSummary(bucket_name='deutsche-boerse-xetra-pds', key='2021-08-10/2021-08-10_BINS_XETR23.csv'),\n",
       " s3.ObjectSummary(bucket_name='deutsche-boerse-xetra-pds', key='2021-08-11/2021-08-11_BINS_XETR00.csv'),\n",
       " s3.ObjectSummary(bucket_name='deutsche-boerse-xetra-pds', key='2021-08-11/2021-08-11_BINS_XETR01.csv'),\n",
       " s3.ObjectSummary(bucket_name='deutsche-boerse-xetra-pds', key='2021-08-11/2021-08-11_BINS_XETR02.csv'),\n",
       " s3.ObjectSummary(bucket_name='deutsche-boerse-xetra-pds', key='2021-08-11/2021-08-11_BINS_XETR03.csv'),\n",
       " s3.ObjectSummary(bucket_name='deutsche-boerse-xetra-pds', key='2021-08-11/2021-08-11_BINS_XETR04.csv'),\n",
       " s3.ObjectSummary(bucket_name='deutsche-boerse-xetra-pds', key='2021-08-11/2021-08-11_BINS_XETR05.csv'),\n",
       " s3.ObjectSummary(bucket_name='deutsche-boerse-xetra-pds', key='2021-08-11/2021-08-11_BINS_XETR06.csv'),\n",
       " s3.ObjectSummary(bucket_name='deutsche-boerse-xetra-pds', key='2021-08-11/2021-08-11_BINS_XETR07.csv'),\n",
       " s3.ObjectSummary(bucket_name='deutsche-boerse-xetra-pds', key='2021-08-11/2021-08-11_BINS_XETR08.csv'),\n",
       " s3.ObjectSummary(bucket_name='deutsche-boerse-xetra-pds', key='2021-08-11/2021-08-11_BINS_XETR09.csv'),\n",
       " s3.ObjectSummary(bucket_name='deutsche-boerse-xetra-pds', key='2021-08-11/2021-08-11_BINS_XETR10.csv'),\n",
       " s3.ObjectSummary(bucket_name='deutsche-boerse-xetra-pds', key='2021-08-11/2021-08-11_BINS_XETR11.csv'),\n",
       " s3.ObjectSummary(bucket_name='deutsche-boerse-xetra-pds', key='2021-08-11/2021-08-11_BINS_XETR12.csv'),\n",
       " s3.ObjectSummary(bucket_name='deutsche-boerse-xetra-pds', key='2021-08-11/2021-08-11_BINS_XETR13.csv'),\n",
       " s3.ObjectSummary(bucket_name='deutsche-boerse-xetra-pds', key='2021-08-11/2021-08-11_BINS_XETR14.csv'),\n",
       " s3.ObjectSummary(bucket_name='deutsche-boerse-xetra-pds', key='2021-08-11/2021-08-11_BINS_XETR15.csv'),\n",
       " s3.ObjectSummary(bucket_name='deutsche-boerse-xetra-pds', key='2021-08-11/2021-08-11_BINS_XETR16.csv'),\n",
       " s3.ObjectSummary(bucket_name='deutsche-boerse-xetra-pds', key='2021-08-11/2021-08-11_BINS_XETR17.csv'),\n",
       " s3.ObjectSummary(bucket_name='deutsche-boerse-xetra-pds', key='2021-08-11/2021-08-11_BINS_XETR18.csv'),\n",
       " s3.ObjectSummary(bucket_name='deutsche-boerse-xetra-pds', key='2021-08-11/2021-08-11_BINS_XETR19.csv'),\n",
       " s3.ObjectSummary(bucket_name='deutsche-boerse-xetra-pds', key='2021-08-11/2021-08-11_BINS_XETR20.csv'),\n",
       " s3.ObjectSummary(bucket_name='deutsche-boerse-xetra-pds', key='2021-08-11/2021-08-11_BINS_XETR21.csv'),\n",
       " s3.ObjectSummary(bucket_name='deutsche-boerse-xetra-pds', key='2021-08-11/2021-08-11_BINS_XETR22.csv'),\n",
       " s3.ObjectSummary(bucket_name='deutsche-boerse-xetra-pds', key='2021-08-11/2021-08-11_BINS_XETR23.csv'),\n",
       " s3.ObjectSummary(bucket_name='deutsche-boerse-xetra-pds', key='2021-08-12/2021-08-12_BINS_XETR00.csv'),\n",
       " s3.ObjectSummary(bucket_name='deutsche-boerse-xetra-pds', key='2021-08-12/2021-08-12_BINS_XETR01.csv'),\n",
       " s3.ObjectSummary(bucket_name='deutsche-boerse-xetra-pds', key='2021-08-12/2021-08-12_BINS_XETR02.csv'),\n",
       " s3.ObjectSummary(bucket_name='deutsche-boerse-xetra-pds', key='2021-08-12/2021-08-12_BINS_XETR03.csv'),\n",
       " s3.ObjectSummary(bucket_name='deutsche-boerse-xetra-pds', key='2021-08-12/2021-08-12_BINS_XETR04.csv'),\n",
       " s3.ObjectSummary(bucket_name='deutsche-boerse-xetra-pds', key='2021-08-12/2021-08-12_BINS_XETR05.csv'),\n",
       " s3.ObjectSummary(bucket_name='deutsche-boerse-xetra-pds', key='2021-08-12/2021-08-12_BINS_XETR06.csv'),\n",
       " s3.ObjectSummary(bucket_name='deutsche-boerse-xetra-pds', key='2021-08-12/2021-08-12_BINS_XETR07.csv'),\n",
       " s3.ObjectSummary(bucket_name='deutsche-boerse-xetra-pds', key='2021-08-12/2021-08-12_BINS_XETR08.csv'),\n",
       " s3.ObjectSummary(bucket_name='deutsche-boerse-xetra-pds', key='2021-08-12/2021-08-12_BINS_XETR09.csv'),\n",
       " s3.ObjectSummary(bucket_name='deutsche-boerse-xetra-pds', key='2021-08-12/2021-08-12_BINS_XETR10.csv'),\n",
       " s3.ObjectSummary(bucket_name='deutsche-boerse-xetra-pds', key='2021-08-12/2021-08-12_BINS_XETR11.csv'),\n",
       " s3.ObjectSummary(bucket_name='deutsche-boerse-xetra-pds', key='2021-08-12/2021-08-12_BINS_XETR12.csv'),\n",
       " s3.ObjectSummary(bucket_name='deutsche-boerse-xetra-pds', key='2021-08-12/2021-08-12_BINS_XETR13.csv'),\n",
       " s3.ObjectSummary(bucket_name='deutsche-boerse-xetra-pds', key='2021-08-12/2021-08-12_BINS_XETR14.csv'),\n",
       " s3.ObjectSummary(bucket_name='deutsche-boerse-xetra-pds', key='2021-08-12/2021-08-12_BINS_XETR15.csv'),\n",
       " s3.ObjectSummary(bucket_name='deutsche-boerse-xetra-pds', key='2021-08-12/2021-08-12_BINS_XETR16.csv'),\n",
       " s3.ObjectSummary(bucket_name='deutsche-boerse-xetra-pds', key='2021-08-12/2021-08-12_BINS_XETR17.csv'),\n",
       " s3.ObjectSummary(bucket_name='deutsche-boerse-xetra-pds', key='2021-08-12/2021-08-12_BINS_XETR18.csv'),\n",
       " s3.ObjectSummary(bucket_name='deutsche-boerse-xetra-pds', key='2021-08-12/2021-08-12_BINS_XETR19.csv'),\n",
       " s3.ObjectSummary(bucket_name='deutsche-boerse-xetra-pds', key='2021-08-12/2021-08-12_BINS_XETR20.csv'),\n",
       " s3.ObjectSummary(bucket_name='deutsche-boerse-xetra-pds', key='2021-08-12/2021-08-12_BINS_XETR21.csv'),\n",
       " s3.ObjectSummary(bucket_name='deutsche-boerse-xetra-pds', key='2021-08-12/2021-08-12_BINS_XETR22.csv'),\n",
       " s3.ObjectSummary(bucket_name='deutsche-boerse-xetra-pds', key='2021-08-12/2021-08-12_BINS_XETR23.csv'),\n",
       " s3.ObjectSummary(bucket_name='deutsche-boerse-xetra-pds', key='2021-08-13/2021-08-13_BINS_XETR00.csv'),\n",
       " s3.ObjectSummary(bucket_name='deutsche-boerse-xetra-pds', key='2021-08-13/2021-08-13_BINS_XETR01.csv'),\n",
       " s3.ObjectSummary(bucket_name='deutsche-boerse-xetra-pds', key='2021-08-13/2021-08-13_BINS_XETR02.csv'),\n",
       " s3.ObjectSummary(bucket_name='deutsche-boerse-xetra-pds', key='2021-08-13/2021-08-13_BINS_XETR03.csv'),\n",
       " s3.ObjectSummary(bucket_name='deutsche-boerse-xetra-pds', key='2021-08-13/2021-08-13_BINS_XETR04.csv'),\n",
       " s3.ObjectSummary(bucket_name='deutsche-boerse-xetra-pds', key='2021-08-13/2021-08-13_BINS_XETR05.csv'),\n",
       " s3.ObjectSummary(bucket_name='deutsche-boerse-xetra-pds', key='2021-08-13/2021-08-13_BINS_XETR06.csv'),\n",
       " s3.ObjectSummary(bucket_name='deutsche-boerse-xetra-pds', key='2021-08-13/2021-08-13_BINS_XETR07.csv'),\n",
       " s3.ObjectSummary(bucket_name='deutsche-boerse-xetra-pds', key='2021-08-13/2021-08-13_BINS_XETR08.csv'),\n",
       " s3.ObjectSummary(bucket_name='deutsche-boerse-xetra-pds', key='2021-08-13/2021-08-13_BINS_XETR09.csv'),\n",
       " s3.ObjectSummary(bucket_name='deutsche-boerse-xetra-pds', key='2021-08-13/2021-08-13_BINS_XETR10.csv'),\n",
       " s3.ObjectSummary(bucket_name='deutsche-boerse-xetra-pds', key='2021-08-13/2021-08-13_BINS_XETR11.csv'),\n",
       " s3.ObjectSummary(bucket_name='deutsche-boerse-xetra-pds', key='2021-08-13/2021-08-13_BINS_XETR12.csv'),\n",
       " s3.ObjectSummary(bucket_name='deutsche-boerse-xetra-pds', key='2021-08-13/2021-08-13_BINS_XETR13.csv'),\n",
       " s3.ObjectSummary(bucket_name='deutsche-boerse-xetra-pds', key='2021-08-13/2021-08-13_BINS_XETR14.csv'),\n",
       " s3.ObjectSummary(bucket_name='deutsche-boerse-xetra-pds', key='2021-08-13/2021-08-13_BINS_XETR15.csv'),\n",
       " s3.ObjectSummary(bucket_name='deutsche-boerse-xetra-pds', key='2021-08-13/2021-08-13_BINS_XETR16.csv'),\n",
       " s3.ObjectSummary(bucket_name='deutsche-boerse-xetra-pds', key='2021-08-13/2021-08-13_BINS_XETR17.csv'),\n",
       " s3.ObjectSummary(bucket_name='deutsche-boerse-xetra-pds', key='2021-08-13/2021-08-13_BINS_XETR18.csv'),\n",
       " s3.ObjectSummary(bucket_name='deutsche-boerse-xetra-pds', key='2021-08-13/2021-08-13_BINS_XETR19.csv'),\n",
       " s3.ObjectSummary(bucket_name='deutsche-boerse-xetra-pds', key='2021-08-13/2021-08-13_BINS_XETR20.csv'),\n",
       " s3.ObjectSummary(bucket_name='deutsche-boerse-xetra-pds', key='2021-08-13/2021-08-13_BINS_XETR21.csv'),\n",
       " s3.ObjectSummary(bucket_name='deutsche-boerse-xetra-pds', key='2021-08-13/2021-08-13_BINS_XETR22.csv'),\n",
       " s3.ObjectSummary(bucket_name='deutsche-boerse-xetra-pds', key='2021-08-13/2021-08-13_BINS_XETR23.csv'),\n",
       " s3.ObjectSummary(bucket_name='deutsche-boerse-xetra-pds', key='2021-08-16/2021-08-16_BINS_XETR00.csv'),\n",
       " s3.ObjectSummary(bucket_name='deutsche-boerse-xetra-pds', key='2021-08-16/2021-08-16_BINS_XETR01.csv'),\n",
       " s3.ObjectSummary(bucket_name='deutsche-boerse-xetra-pds', key='2021-08-16/2021-08-16_BINS_XETR02.csv'),\n",
       " s3.ObjectSummary(bucket_name='deutsche-boerse-xetra-pds', key='2021-08-16/2021-08-16_BINS_XETR03.csv'),\n",
       " s3.ObjectSummary(bucket_name='deutsche-boerse-xetra-pds', key='2021-08-16/2021-08-16_BINS_XETR04.csv'),\n",
       " s3.ObjectSummary(bucket_name='deutsche-boerse-xetra-pds', key='2021-08-16/2021-08-16_BINS_XETR05.csv'),\n",
       " s3.ObjectSummary(bucket_name='deutsche-boerse-xetra-pds', key='2021-08-16/2021-08-16_BINS_XETR06.csv'),\n",
       " s3.ObjectSummary(bucket_name='deutsche-boerse-xetra-pds', key='2021-08-16/2021-08-16_BINS_XETR07.csv'),\n",
       " s3.ObjectSummary(bucket_name='deutsche-boerse-xetra-pds', key='2021-08-16/2021-08-16_BINS_XETR08.csv'),\n",
       " s3.ObjectSummary(bucket_name='deutsche-boerse-xetra-pds', key='2021-08-16/2021-08-16_BINS_XETR09.csv'),\n",
       " s3.ObjectSummary(bucket_name='deutsche-boerse-xetra-pds', key='2021-08-16/2021-08-16_BINS_XETR10.csv'),\n",
       " s3.ObjectSummary(bucket_name='deutsche-boerse-xetra-pds', key='2021-08-16/2021-08-16_BINS_XETR11.csv'),\n",
       " s3.ObjectSummary(bucket_name='deutsche-boerse-xetra-pds', key='2021-08-16/2021-08-16_BINS_XETR12.csv'),\n",
       " s3.ObjectSummary(bucket_name='deutsche-boerse-xetra-pds', key='2021-08-16/2021-08-16_BINS_XETR13.csv'),\n",
       " s3.ObjectSummary(bucket_name='deutsche-boerse-xetra-pds', key='2021-08-16/2021-08-16_BINS_XETR14.csv'),\n",
       " s3.ObjectSummary(bucket_name='deutsche-boerse-xetra-pds', key='2021-08-16/2021-08-16_BINS_XETR15.csv'),\n",
       " s3.ObjectSummary(bucket_name='deutsche-boerse-xetra-pds', key='2021-08-16/2021-08-16_BINS_XETR16.csv'),\n",
       " s3.ObjectSummary(bucket_name='deutsche-boerse-xetra-pds', key='2021-08-16/2021-08-16_BINS_XETR17.csv'),\n",
       " s3.ObjectSummary(bucket_name='deutsche-boerse-xetra-pds', key='2021-08-16/2021-08-16_BINS_XETR18.csv'),\n",
       " s3.ObjectSummary(bucket_name='deutsche-boerse-xetra-pds', key='2021-08-16/2021-08-16_BINS_XETR19.csv'),\n",
       " s3.ObjectSummary(bucket_name='deutsche-boerse-xetra-pds', key='2021-08-16/2021-08-16_BINS_XETR20.csv'),\n",
       " s3.ObjectSummary(bucket_name='deutsche-boerse-xetra-pds', key='2021-08-16/2021-08-16_BINS_XETR21.csv'),\n",
       " s3.ObjectSummary(bucket_name='deutsche-boerse-xetra-pds', key='2021-08-16/2021-08-16_BINS_XETR22.csv'),\n",
       " s3.ObjectSummary(bucket_name='deutsche-boerse-xetra-pds', key='2021-08-16/2021-08-16_BINS_XETR23.csv'),\n",
       " s3.ObjectSummary(bucket_name='deutsche-boerse-xetra-pds', key='2021-08-17/2021-08-17_BINS_XETR00.csv'),\n",
       " s3.ObjectSummary(bucket_name='deutsche-boerse-xetra-pds', key='2021-08-17/2021-08-17_BINS_XETR01.csv'),\n",
       " s3.ObjectSummary(bucket_name='deutsche-boerse-xetra-pds', key='2021-08-17/2021-08-17_BINS_XETR02.csv'),\n",
       " s3.ObjectSummary(bucket_name='deutsche-boerse-xetra-pds', key='2021-08-17/2021-08-17_BINS_XETR03.csv'),\n",
       " s3.ObjectSummary(bucket_name='deutsche-boerse-xetra-pds', key='2021-08-17/2021-08-17_BINS_XETR04.csv'),\n",
       " s3.ObjectSummary(bucket_name='deutsche-boerse-xetra-pds', key='2021-08-17/2021-08-17_BINS_XETR05.csv'),\n",
       " s3.ObjectSummary(bucket_name='deutsche-boerse-xetra-pds', key='2021-08-17/2021-08-17_BINS_XETR06.csv'),\n",
       " s3.ObjectSummary(bucket_name='deutsche-boerse-xetra-pds', key='2021-08-17/2021-08-17_BINS_XETR07.csv'),\n",
       " s3.ObjectSummary(bucket_name='deutsche-boerse-xetra-pds', key='2021-08-17/2021-08-17_BINS_XETR08.csv'),\n",
       " s3.ObjectSummary(bucket_name='deutsche-boerse-xetra-pds', key='2021-08-17/2021-08-17_BINS_XETR09.csv'),\n",
       " s3.ObjectSummary(bucket_name='deutsche-boerse-xetra-pds', key='2021-08-17/2021-08-17_BINS_XETR10.csv'),\n",
       " s3.ObjectSummary(bucket_name='deutsche-boerse-xetra-pds', key='2021-08-17/2021-08-17_BINS_XETR11.csv'),\n",
       " s3.ObjectSummary(bucket_name='deutsche-boerse-xetra-pds', key='2021-08-17/2021-08-17_BINS_XETR12.csv'),\n",
       " s3.ObjectSummary(bucket_name='deutsche-boerse-xetra-pds', key='2021-08-17/2021-08-17_BINS_XETR13.csv'),\n",
       " s3.ObjectSummary(bucket_name='deutsche-boerse-xetra-pds', key='2021-08-17/2021-08-17_BINS_XETR14.csv'),\n",
       " s3.ObjectSummary(bucket_name='deutsche-boerse-xetra-pds', key='2021-08-17/2021-08-17_BINS_XETR15.csv'),\n",
       " s3.ObjectSummary(bucket_name='deutsche-boerse-xetra-pds', key='2021-08-17/2021-08-17_BINS_XETR16.csv'),\n",
       " s3.ObjectSummary(bucket_name='deutsche-boerse-xetra-pds', key='2021-08-17/2021-08-17_BINS_XETR17.csv'),\n",
       " s3.ObjectSummary(bucket_name='deutsche-boerse-xetra-pds', key='2021-08-17/2021-08-17_BINS_XETR18.csv'),\n",
       " s3.ObjectSummary(bucket_name='deutsche-boerse-xetra-pds', key='2021-08-17/2021-08-17_BINS_XETR19.csv'),\n",
       " s3.ObjectSummary(bucket_name='deutsche-boerse-xetra-pds', key='2021-08-17/2021-08-17_BINS_XETR20.csv'),\n",
       " s3.ObjectSummary(bucket_name='deutsche-boerse-xetra-pds', key='2021-08-17/2021-08-17_BINS_XETR21.csv'),\n",
       " s3.ObjectSummary(bucket_name='deutsche-boerse-xetra-pds', key='2021-08-17/2021-08-17_BINS_XETR22.csv'),\n",
       " s3.ObjectSummary(bucket_name='deutsche-boerse-xetra-pds', key='2021-08-17/2021-08-17_BINS_XETR23.csv'),\n",
       " s3.ObjectSummary(bucket_name='deutsche-boerse-xetra-pds', key='2021-08-18/2021-08-18_BINS_XETR00.csv'),\n",
       " s3.ObjectSummary(bucket_name='deutsche-boerse-xetra-pds', key='2021-08-18/2021-08-18_BINS_XETR01.csv'),\n",
       " s3.ObjectSummary(bucket_name='deutsche-boerse-xetra-pds', key='2021-08-18/2021-08-18_BINS_XETR02.csv'),\n",
       " s3.ObjectSummary(bucket_name='deutsche-boerse-xetra-pds', key='2021-08-18/2021-08-18_BINS_XETR03.csv'),\n",
       " s3.ObjectSummary(bucket_name='deutsche-boerse-xetra-pds', key='2021-08-18/2021-08-18_BINS_XETR04.csv'),\n",
       " s3.ObjectSummary(bucket_name='deutsche-boerse-xetra-pds', key='2021-08-18/2021-08-18_BINS_XETR05.csv'),\n",
       " s3.ObjectSummary(bucket_name='deutsche-boerse-xetra-pds', key='2021-08-18/2021-08-18_BINS_XETR06.csv'),\n",
       " s3.ObjectSummary(bucket_name='deutsche-boerse-xetra-pds', key='2021-08-18/2021-08-18_BINS_XETR07.csv'),\n",
       " s3.ObjectSummary(bucket_name='deutsche-boerse-xetra-pds', key='2021-08-18/2021-08-18_BINS_XETR08.csv'),\n",
       " s3.ObjectSummary(bucket_name='deutsche-boerse-xetra-pds', key='2021-08-18/2021-08-18_BINS_XETR09.csv'),\n",
       " s3.ObjectSummary(bucket_name='deutsche-boerse-xetra-pds', key='2021-08-18/2021-08-18_BINS_XETR10.csv'),\n",
       " s3.ObjectSummary(bucket_name='deutsche-boerse-xetra-pds', key='2021-08-18/2021-08-18_BINS_XETR11.csv'),\n",
       " s3.ObjectSummary(bucket_name='deutsche-boerse-xetra-pds', key='2021-08-18/2021-08-18_BINS_XETR12.csv'),\n",
       " s3.ObjectSummary(bucket_name='deutsche-boerse-xetra-pds', key='2021-08-18/2021-08-18_BINS_XETR13.csv'),\n",
       " s3.ObjectSummary(bucket_name='deutsche-boerse-xetra-pds', key='2021-08-18/2021-08-18_BINS_XETR14.csv'),\n",
       " s3.ObjectSummary(bucket_name='deutsche-boerse-xetra-pds', key='2021-08-18/2021-08-18_BINS_XETR15.csv'),\n",
       " s3.ObjectSummary(bucket_name='deutsche-boerse-xetra-pds', key='2021-08-18/2021-08-18_BINS_XETR16.csv'),\n",
       " s3.ObjectSummary(bucket_name='deutsche-boerse-xetra-pds', key='2021-08-18/2021-08-18_BINS_XETR17.csv'),\n",
       " s3.ObjectSummary(bucket_name='deutsche-boerse-xetra-pds', key='2021-08-18/2021-08-18_BINS_XETR18.csv'),\n",
       " s3.ObjectSummary(bucket_name='deutsche-boerse-xetra-pds', key='2021-08-18/2021-08-18_BINS_XETR19.csv'),\n",
       " s3.ObjectSummary(bucket_name='deutsche-boerse-xetra-pds', key='2021-08-18/2021-08-18_BINS_XETR20.csv'),\n",
       " s3.ObjectSummary(bucket_name='deutsche-boerse-xetra-pds', key='2021-08-18/2021-08-18_BINS_XETR21.csv'),\n",
       " s3.ObjectSummary(bucket_name='deutsche-boerse-xetra-pds', key='2021-08-18/2021-08-18_BINS_XETR22.csv'),\n",
       " s3.ObjectSummary(bucket_name='deutsche-boerse-xetra-pds', key='2021-08-18/2021-08-18_BINS_XETR23.csv'),\n",
       " s3.ObjectSummary(bucket_name='deutsche-boerse-xetra-pds', key='2021-08-19/2021-08-19_BINS_XETR00.csv'),\n",
       " s3.ObjectSummary(bucket_name='deutsche-boerse-xetra-pds', key='2021-08-19/2021-08-19_BINS_XETR01.csv'),\n",
       " s3.ObjectSummary(bucket_name='deutsche-boerse-xetra-pds', key='2021-08-19/2021-08-19_BINS_XETR02.csv'),\n",
       " s3.ObjectSummary(bucket_name='deutsche-boerse-xetra-pds', key='2021-08-19/2021-08-19_BINS_XETR03.csv'),\n",
       " s3.ObjectSummary(bucket_name='deutsche-boerse-xetra-pds', key='2021-08-19/2021-08-19_BINS_XETR04.csv'),\n",
       " s3.ObjectSummary(bucket_name='deutsche-boerse-xetra-pds', key='2021-08-19/2021-08-19_BINS_XETR05.csv'),\n",
       " s3.ObjectSummary(bucket_name='deutsche-boerse-xetra-pds', key='2021-08-19/2021-08-19_BINS_XETR06.csv'),\n",
       " s3.ObjectSummary(bucket_name='deutsche-boerse-xetra-pds', key='2021-08-19/2021-08-19_BINS_XETR07.csv'),\n",
       " s3.ObjectSummary(bucket_name='deutsche-boerse-xetra-pds', key='2021-08-19/2021-08-19_BINS_XETR08.csv'),\n",
       " s3.ObjectSummary(bucket_name='deutsche-boerse-xetra-pds', key='2021-08-19/2021-08-19_BINS_XETR09.csv'),\n",
       " s3.ObjectSummary(bucket_name='deutsche-boerse-xetra-pds', key='2021-08-19/2021-08-19_BINS_XETR10.csv'),\n",
       " s3.ObjectSummary(bucket_name='deutsche-boerse-xetra-pds', key='2021-08-19/2021-08-19_BINS_XETR11.csv'),\n",
       " s3.ObjectSummary(bucket_name='deutsche-boerse-xetra-pds', key='2021-08-19/2021-08-19_BINS_XETR12.csv'),\n",
       " s3.ObjectSummary(bucket_name='deutsche-boerse-xetra-pds', key='2021-08-19/2021-08-19_BINS_XETR13.csv'),\n",
       " s3.ObjectSummary(bucket_name='deutsche-boerse-xetra-pds', key='2021-08-19/2021-08-19_BINS_XETR14.csv'),\n",
       " s3.ObjectSummary(bucket_name='deutsche-boerse-xetra-pds', key='2021-08-19/2021-08-19_BINS_XETR15.csv'),\n",
       " s3.ObjectSummary(bucket_name='deutsche-boerse-xetra-pds', key='2021-08-19/2021-08-19_BINS_XETR16.csv'),\n",
       " s3.ObjectSummary(bucket_name='deutsche-boerse-xetra-pds', key='2021-08-19/2021-08-19_BINS_XETR17.csv'),\n",
       " s3.ObjectSummary(bucket_name='deutsche-boerse-xetra-pds', key='2021-08-19/2021-08-19_BINS_XETR18.csv'),\n",
       " s3.ObjectSummary(bucket_name='deutsche-boerse-xetra-pds', key='2021-08-19/2021-08-19_BINS_XETR19.csv'),\n",
       " s3.ObjectSummary(bucket_name='deutsche-boerse-xetra-pds', key='2021-08-19/2021-08-19_BINS_XETR20.csv'),\n",
       " s3.ObjectSummary(bucket_name='deutsche-boerse-xetra-pds', key='2021-08-19/2021-08-19_BINS_XETR21.csv'),\n",
       " s3.ObjectSummary(bucket_name='deutsche-boerse-xetra-pds', key='2021-08-19/2021-08-19_BINS_XETR22.csv'),\n",
       " s3.ObjectSummary(bucket_name='deutsche-boerse-xetra-pds', key='2021-08-19/2021-08-19_BINS_XETR23.csv'),\n",
       " s3.ObjectSummary(bucket_name='deutsche-boerse-xetra-pds', key='2021-08-20/2021-08-20_BINS_XETR00.csv'),\n",
       " s3.ObjectSummary(bucket_name='deutsche-boerse-xetra-pds', key='2021-08-20/2021-08-20_BINS_XETR01.csv'),\n",
       " s3.ObjectSummary(bucket_name='deutsche-boerse-xetra-pds', key='2021-08-20/2021-08-20_BINS_XETR02.csv'),\n",
       " s3.ObjectSummary(bucket_name='deutsche-boerse-xetra-pds', key='2021-08-20/2021-08-20_BINS_XETR03.csv'),\n",
       " s3.ObjectSummary(bucket_name='deutsche-boerse-xetra-pds', key='2021-08-20/2021-08-20_BINS_XETR04.csv'),\n",
       " s3.ObjectSummary(bucket_name='deutsche-boerse-xetra-pds', key='2021-08-20/2021-08-20_BINS_XETR05.csv'),\n",
       " s3.ObjectSummary(bucket_name='deutsche-boerse-xetra-pds', key='2021-08-20/2021-08-20_BINS_XETR06.csv'),\n",
       " s3.ObjectSummary(bucket_name='deutsche-boerse-xetra-pds', key='2021-08-20/2021-08-20_BINS_XETR07.csv'),\n",
       " s3.ObjectSummary(bucket_name='deutsche-boerse-xetra-pds', key='2021-08-20/2021-08-20_BINS_XETR08.csv'),\n",
       " s3.ObjectSummary(bucket_name='deutsche-boerse-xetra-pds', key='2021-08-20/2021-08-20_BINS_XETR09.csv'),\n",
       " s3.ObjectSummary(bucket_name='deutsche-boerse-xetra-pds', key='2021-08-20/2021-08-20_BINS_XETR10.csv'),\n",
       " s3.ObjectSummary(bucket_name='deutsche-boerse-xetra-pds', key='2021-08-20/2021-08-20_BINS_XETR11.csv'),\n",
       " s3.ObjectSummary(bucket_name='deutsche-boerse-xetra-pds', key='2021-08-20/2021-08-20_BINS_XETR12.csv'),\n",
       " s3.ObjectSummary(bucket_name='deutsche-boerse-xetra-pds', key='2021-08-20/2021-08-20_BINS_XETR13.csv'),\n",
       " s3.ObjectSummary(bucket_name='deutsche-boerse-xetra-pds', key='2021-08-20/2021-08-20_BINS_XETR14.csv'),\n",
       " s3.ObjectSummary(bucket_name='deutsche-boerse-xetra-pds', key='2021-08-20/2021-08-20_BINS_XETR15.csv'),\n",
       " s3.ObjectSummary(bucket_name='deutsche-boerse-xetra-pds', key='2021-08-20/2021-08-20_BINS_XETR16.csv'),\n",
       " s3.ObjectSummary(bucket_name='deutsche-boerse-xetra-pds', key='2021-08-20/2021-08-20_BINS_XETR17.csv'),\n",
       " s3.ObjectSummary(bucket_name='deutsche-boerse-xetra-pds', key='2021-08-20/2021-08-20_BINS_XETR18.csv'),\n",
       " s3.ObjectSummary(bucket_name='deutsche-boerse-xetra-pds', key='2021-08-20/2021-08-20_BINS_XETR19.csv'),\n",
       " s3.ObjectSummary(bucket_name='deutsche-boerse-xetra-pds', key='2021-08-20/2021-08-20_BINS_XETR20.csv'),\n",
       " s3.ObjectSummary(bucket_name='deutsche-boerse-xetra-pds', key='2021-08-20/2021-08-20_BINS_XETR21.csv'),\n",
       " s3.ObjectSummary(bucket_name='deutsche-boerse-xetra-pds', key='2021-08-20/2021-08-20_BINS_XETR22.csv'),\n",
       " s3.ObjectSummary(bucket_name='deutsche-boerse-xetra-pds', key='2021-08-20/2021-08-20_BINS_XETR23.csv')]"
      ]
     },
     "execution_count": 22,
     "metadata": {},
     "output_type": "execute_result"
    }
   ],
   "source": [
    "objects "
   ]
  },
  {
   "cell_type": "code",
   "execution_count": 8,
   "id": "437a14ec",
   "metadata": {},
   "outputs": [],
   "source": [
    "csv_obj_init = bucket.Object(key=objects[0].key).get().get('Body').read().decode('utf-8') #Get an initial csv, just to set the columns of the df.\n",
    "data = StringIO(csv_obj_init) #convert the CSV object into string format.\n",
    "df_init = pd.read_csv(data, delimiter=',') #create a panda's df out of the csv"
   ]
  },
  {
   "cell_type": "code",
   "execution_count": 9,
   "id": "55da979d",
   "metadata": {},
   "outputs": [
    {
     "data": {
      "text/html": [
       "<div>\n",
       "<style scoped>\n",
       "    .dataframe tbody tr th:only-of-type {\n",
       "        vertical-align: middle;\n",
       "    }\n",
       "\n",
       "    .dataframe tbody tr th {\n",
       "        vertical-align: top;\n",
       "    }\n",
       "\n",
       "    .dataframe thead th {\n",
       "        text-align: right;\n",
       "    }\n",
       "</style>\n",
       "<table border=\"1\" class=\"dataframe\">\n",
       "  <thead>\n",
       "    <tr style=\"text-align: right;\">\n",
       "      <th></th>\n",
       "      <th>ISIN</th>\n",
       "      <th>Mnemonic</th>\n",
       "      <th>SecurityDesc</th>\n",
       "      <th>SecurityType</th>\n",
       "      <th>Currency</th>\n",
       "      <th>SecurityID</th>\n",
       "      <th>Date</th>\n",
       "      <th>Time</th>\n",
       "      <th>StartPrice</th>\n",
       "      <th>MaxPrice</th>\n",
       "      <th>MinPrice</th>\n",
       "      <th>EndPrice</th>\n",
       "      <th>TradedVolume</th>\n",
       "      <th>NumberOfTrades</th>\n",
       "    </tr>\n",
       "  </thead>\n",
       "  <tbody>\n",
       "  </tbody>\n",
       "</table>\n",
       "</div>"
      ],
      "text/plain": [
       "Empty DataFrame\n",
       "Columns: [ISIN, Mnemonic, SecurityDesc, SecurityType, Currency, SecurityID, Date, Time, StartPrice, MaxPrice, MinPrice, EndPrice, TradedVolume, NumberOfTrades]\n",
       "Index: []"
      ]
     },
     "execution_count": 9,
     "metadata": {},
     "output_type": "execute_result"
    }
   ],
   "source": [
    "df_init"
   ]
  },
  {
   "cell_type": "code",
   "execution_count": 10,
   "id": "dc140d37",
   "metadata": {},
   "outputs": [
    {
     "data": {
      "text/plain": [
       "Index(['ISIN', 'Mnemonic', 'SecurityDesc', 'SecurityType', 'Currency',\n",
       "       'SecurityID', 'Date', 'Time', 'StartPrice', 'MaxPrice', 'MinPrice',\n",
       "       'EndPrice', 'TradedVolume', 'NumberOfTrades'],\n",
       "      dtype='object')"
      ]
     },
     "execution_count": 10,
     "metadata": {},
     "output_type": "execute_result"
    }
   ],
   "source": [
    "df_init.columns"
   ]
  },
  {
   "cell_type": "code",
   "execution_count": 11,
   "id": "8497821d",
   "metadata": {},
   "outputs": [],
   "source": [
    "df_all = pd.DataFrame(columns=df_init.columns) #giving structure of columns to facilitate appending to it later."
   ]
  },
  {
   "cell_type": "code",
   "execution_count": 12,
   "id": "3d884343",
   "metadata": {},
   "outputs": [],
   "source": [
    "#More pythonic solution below\n",
    "# for obj in objects:\n",
    "#     csv_obj = bucket.Object(key=obj.key).get().get('Body').read().decode('utf-8') #convert each filtered obj from bucket to a csv\n",
    "#     data = StringIO(csv_obj) #convert the CSV object into string format into memory - so that it can be used without saving into hdd\n",
    "#     df = pd.read_csv(data, delimiter=',') #create a panda's df out of the csv\n",
    "#     df_all = df_all.append(df, ignore_index=True) #ignore_index: if there was any index, it will not be reset to a numerical one after append."
   ]
  },
  {
   "cell_type": "code",
   "execution_count": 13,
   "id": "1e1d1fe5",
   "metadata": {},
   "outputs": [
    {
     "ename": "TypeError",
     "evalue": "'type' object is not iterable",
     "output_type": "error",
     "traceback": [
      "\u001b[1;31m---------------------------------------------------------------------------\u001b[0m",
      "\u001b[1;31mTypeError\u001b[0m                                 Traceback (most recent call last)",
      "\u001b[1;32m~\\AppData\\Local\\Temp/ipykernel_28592/2721834214.py\u001b[0m in \u001b[0;36m<module>\u001b[1;34m\u001b[0m\n\u001b[0;32m      5\u001b[0m     \u001b[1;32mreturn\u001b[0m \u001b[0mdf\u001b[0m\u001b[1;33m\u001b[0m\u001b[1;33m\u001b[0m\u001b[0m\n\u001b[0;32m      6\u001b[0m \u001b[1;33m\u001b[0m\u001b[0m\n\u001b[1;32m----> 7\u001b[1;33m \u001b[0mdf_all\u001b[0m \u001b[1;33m=\u001b[0m \u001b[0mdf_all\u001b[0m\u001b[1;33m.\u001b[0m\u001b[0mappend\u001b[0m\u001b[1;33m(\u001b[0m\u001b[1;33m[\u001b[0m\u001b[0mcsv_to_df\u001b[0m\u001b[1;33m(\u001b[0m\u001b[0mobj\u001b[0m\u001b[1;33m.\u001b[0m\u001b[0mkey\u001b[0m\u001b[1;33m)\u001b[0m \u001b[1;32mfor\u001b[0m \u001b[0mobj\u001b[0m \u001b[1;32min\u001b[0m \u001b[0mobject\u001b[0m\u001b[1;33m]\u001b[0m\u001b[1;33m,\u001b[0m \u001b[0mignore_index\u001b[0m\u001b[1;33m=\u001b[0m\u001b[1;32mTrue\u001b[0m\u001b[1;33m)\u001b[0m \u001b[1;31m#ignore_index: if there was any index, it will not be reset to a numerical one after append.\u001b[0m\u001b[1;33m\u001b[0m\u001b[1;33m\u001b[0m\u001b[0m\n\u001b[0m",
      "\u001b[1;31mTypeError\u001b[0m: 'type' object is not iterable"
     ]
    }
   ],
   "source": [
    "def csv_to_df(objname):\n",
    "    csv_obj = bucket.Object(key=obj.key).get().get('Body').read().decode('utf-8') #convert each filtered obj from bucket to a csv\n",
    "    data = StringIO(csv_obj) #convert the CSV object into string format into memory - so that it can be used without saving into hdd\n",
    "    df = pd.read_csv(data, delimiter=',') #create a panda's df out of the csv\n",
    "    return df\n",
    "    \n",
    "df_all = df_all.append([csv_to_df(obj.key) for obj in object], ignore_index=True) #ignore_index: if there was any index, it will not be reset to a numerical one after append."
   ]
  },
  {
   "cell_type": "code",
   "execution_count": null,
   "id": "97fdc4f0",
   "metadata": {
    "scrolled": true
   },
   "outputs": [],
   "source": [
    "df_all"
   ]
  },
  {
   "cell_type": "markdown",
   "id": "ab5c95aa",
   "metadata": {},
   "source": [
    "# Selecting the specific rows that we need for our wanted report"
   ]
  },
  {
   "cell_type": "code",
   "execution_count": null,
   "id": "d8387987",
   "metadata": {},
   "outputs": [],
   "source": [
    "\n",
    "columns = ['ISIN', 'Date', 'Time', 'StartPrice', 'MaxPrice', 'MinPrice', 'EndPrice', 'TradedVolume']\n",
    "#its easy to filter:\n",
    "df_all = df_all.loc[:, columns] #all rows but we want only specific columns"
   ]
  },
  {
   "cell_type": "code",
   "execution_count": null,
   "id": "42701585",
   "metadata": {
    "scrolled": true
   },
   "outputs": [],
   "source": [
    "df_all"
   ]
  },
  {
   "cell_type": "code",
   "execution_count": null,
   "id": "d58c88f9",
   "metadata": {},
   "outputs": [],
   "source": [
    "df_all.dropna(inplace=True) #drop any empty row (just to make sure - even though unlikely to be any)\n",
    "df_all"
   ]
  },
  {
   "cell_type": "markdown",
   "id": "f13033ec",
   "metadata": {},
   "source": [
    "# Doing the transformations to get the report"
   ]
  },
  {
   "cell_type": "markdown",
   "id": "1b05f1f2",
   "metadata": {},
   "source": [
    "## Get opening price per ISIN and Day"
   ]
  },
  {
   "cell_type": "code",
   "execution_count": null,
   "id": "2509e7c6",
   "metadata": {},
   "outputs": [],
   "source": [
    "df_all[['ISIN', 'Date', 'StartPrice']]"
   ]
  },
  {
   "cell_type": "code",
   "execution_count": null,
   "id": "4754c7dd",
   "metadata": {},
   "outputs": [],
   "source": [
    "#creating new column\n",
    "#transform('first') is calling a group-by method. It returns the first non-NaN value in a series, or NaN if there is none on each row of the 'StartPrice' columns and through '.transform' it returns this columns - to be set as a new column.\n",
    "df_all['opening_price'] = df_all.sort_values(by=['Time']).groupby(['ISIN','Date'])['StartPrice'].transform('first') #doesnt appear to have achieved anything\n",
    "#transform('first'): It returns a series / dataframe with the same shape as the source group chunk, in which all values in every individual column are replaced with the first non-NaN value in this column, or with NaN if there is none.\n",
    "\n",
    "df_all"
   ]
  },
  {
   "cell_type": "code",
   "execution_count": null,
   "id": "3aed254a",
   "metadata": {},
   "outputs": [],
   "source": [
    "df_all[df_all['ISIN']=='AT0000A0E9W5']"
   ]
  },
  {
   "cell_type": "markdown",
   "id": "42dc6f14",
   "metadata": {},
   "source": [
    "## Get closing price per ISIN and Day"
   ]
  },
  {
   "cell_type": "code",
   "execution_count": null,
   "id": "16da36ca",
   "metadata": {},
   "outputs": [],
   "source": [
    "df_all['closing_price'] = df_all.sort_values(by='Time').groupby(['ISIN', 'Date'])['StartPrice'].transform('last')\n",
    "\n",
    "df_all"
   ]
  },
  {
   "cell_type": "code",
   "execution_count": null,
   "id": "06d7d984",
   "metadata": {
    "scrolled": true
   },
   "outputs": [],
   "source": [
    "df_all[df_all['ISIN']=='DE000A0TGJ55']"
   ]
  },
  {
   "cell_type": "markdown",
   "id": "e89e6e8f",
   "metadata": {},
   "source": [
    "## Aggregations to create most of the desired columns"
   ]
  },
  {
   "cell_type": "code",
   "execution_count": null,
   "id": "c7a2ad22",
   "metadata": {},
   "outputs": [],
   "source": [
    "df_all = df_all.groupby(['ISIN', 'Date'], as_index=False).agg(opening_price_eur=('opening_price', 'min'), closing_price_eur=('closing_price', 'min'), minimum_price_eur=('MinPrice', 'min'), maximum_price_eur=('MaxPrice', 'max'), daily_traded_volume=(\"TradedVolume\", 'sum'))"
   ]
  },
  {
   "cell_type": "code",
   "execution_count": null,
   "id": "5c3b022d",
   "metadata": {},
   "outputs": [],
   "source": [
    "df_all"
   ]
  },
  {
   "cell_type": "markdown",
   "id": "a0f4222e",
   "metadata": {},
   "source": [
    "## Get column that shows the percentage of change in previous days closing price to todays closing price."
   ]
  },
  {
   "cell_type": "code",
   "execution_count": null,
   "id": "87f94045",
   "metadata": {},
   "outputs": [],
   "source": [
    "df = pd.DataFrame({\"Col1\": [10, 20, 15, 30, 45],\n",
    "                   \"Col2\": [13, 23, 18, 33, 48],\n",
    "                   \"Col3\": [17, 27, 22, 37, 52]},\n",
    "                  index=pd.date_range(\"2020-01-01\", \"2020-01-05\"))\n",
    "\n",
    "df"
   ]
  },
  {
   "cell_type": "code",
   "execution_count": null,
   "id": "6cbbcff4",
   "metadata": {},
   "outputs": [],
   "source": [
    "df.shift(1)"
   ]
  },
  {
   "cell_type": "code",
   "execution_count": null,
   "id": "a0356fd5",
   "metadata": {},
   "outputs": [],
   "source": [
    "df_all['closing_price_eur'] #ignore"
   ]
  },
  {
   "cell_type": "code",
   "execution_count": null,
   "id": "f2d558e0",
   "metadata": {},
   "outputs": [],
   "source": [
    "df_all.sort_values(by=['Date']).groupby(['ISIN']).shift(1)['closing_price_eur'] #ignore"
   ]
  },
  {
   "cell_type": "code",
   "execution_count": null,
   "id": "32707052",
   "metadata": {},
   "outputs": [],
   "source": [
    "df_all['prev_closing_price'] = df_all.sort_values(by=['Date']).groupby(['ISIN'])['closing_price_eur'].shift(1) "
   ]
  },
  {
   "cell_type": "code",
   "execution_count": null,
   "id": "c1d82675",
   "metadata": {},
   "outputs": [],
   "source": [
    "df_all"
   ]
  },
  {
   "cell_type": "code",
   "execution_count": null,
   "id": "e7e1fdca",
   "metadata": {},
   "outputs": [],
   "source": [
    "df_all['change_prev_closing_%'] = (df_all['closing_price_eur'] - df_all['prev_closing_price']) / df_all['prev_closing_price'] * 100"
   ]
  },
  {
   "cell_type": "code",
   "execution_count": null,
   "id": "9cb5a870",
   "metadata": {},
   "outputs": [],
   "source": [
    "df_all.drop(columns=['prev_closing_price'], inplace=True)"
   ]
  },
  {
   "cell_type": "code",
   "execution_count": null,
   "id": "457a5957",
   "metadata": {},
   "outputs": [],
   "source": [
    "df_all = df_all.round(decimals=2)"
   ]
  },
  {
   "cell_type": "code",
   "execution_count": null,
   "id": "db4c8ff6",
   "metadata": {},
   "outputs": [],
   "source": [
    "df_all.Date"
   ]
  },
  {
   "cell_type": "code",
   "execution_count": null,
   "id": "07bdad5f",
   "metadata": {},
   "outputs": [],
   "source": [
    "#Filtering by the passed-in-argument data, as the report should not show older data.\n",
    "df_all = df_all[df_all.Date >= arg_date]"
   ]
  },
  {
   "cell_type": "code",
   "execution_count": null,
   "id": "d06e91eb",
   "metadata": {},
   "outputs": [],
   "source": [
    "df_all"
   ]
  },
  {
   "cell_type": "markdown",
   "id": "ce5c3f9c",
   "metadata": {},
   "source": [
    "## Write to S3"
   ]
  },
  {
   "cell_type": "code",
   "execution_count": null,
   "id": "b6394170",
   "metadata": {},
   "outputs": [],
   "source": [
    "#creating the key (name) of the object\n",
    "key = 'stocks_daily_report_' + datetime.today().strftime(\"%Y%m%d_%H%M%S\") + '.parquet' #will store it as a parquet file as it is better practise and more efficiently stored."
   ]
  },
  {
   "cell_type": "code",
   "execution_count": null,
   "id": "23f940ef",
   "metadata": {
    "scrolled": true
   },
   "outputs": [],
   "source": [
    "out_buffer = BytesIO() #to handle binary data in memory\n",
    "df_all.to_parquet(path=out_buffer, index=False) #Write a DataFrame as a parquet format (a file format) into BytesIO (memory)\n",
    "\n",
    "bucket_target = s3.Bucket(\"stocks-etl-project-essa\") #Creating bucket instance for the target bucket (where we will store)\n",
    "bucket_target.put_object(Body=out_buffer.getvalue(), Key=key) #uploading the file"
   ]
  },
  {
   "cell_type": "markdown",
   "id": "88e0a30e",
   "metadata": {},
   "source": [
    "## Reading the uploaded file"
   ]
  },
  {
   "cell_type": "code",
   "execution_count": null,
   "id": "60bd9c22",
   "metadata": {
    "scrolled": true
   },
   "outputs": [],
   "source": [
    "for obj in bucket_target.objects.all():\n",
    "    print(obj.key) #checking if the file exists in s3"
   ]
  },
  {
   "cell_type": "code",
   "execution_count": null,
   "id": "dd3dc23d",
   "metadata": {},
   "outputs": [],
   "source": [
    "prq_obj = bucket_target.Object(key='stocks_daily_report_20210821_031514.parquet').get().get('Body').read()\n",
    "data = BytesIO(prq_obj) #pandas only accepts a file on disk or a file-like-object (BytesIO is a file-like-obj)\n",
    "df_report = pd.read_parquet(data) #using pandas built in function"
   ]
  },
  {
   "cell_type": "code",
   "execution_count": 14,
   "id": "6d3c849e",
   "metadata": {},
   "outputs": [
    {
     "ename": "NameError",
     "evalue": "name 'df_report' is not defined",
     "output_type": "error",
     "traceback": [
      "\u001b[1;31m---------------------------------------------------------------------------\u001b[0m",
      "\u001b[1;31mNameError\u001b[0m                                 Traceback (most recent call last)",
      "\u001b[1;32m~\\AppData\\Local\\Temp/ipykernel_28592/2500996083.py\u001b[0m in \u001b[0;36m<module>\u001b[1;34m\u001b[0m\n\u001b[1;32m----> 1\u001b[1;33m \u001b[0mdf_report\u001b[0m\u001b[1;33m\u001b[0m\u001b[1;33m\u001b[0m\u001b[0m\n\u001b[0m",
      "\u001b[1;31mNameError\u001b[0m: name 'df_report' is not defined"
     ]
    }
   ],
   "source": [
    "df_report"
   ]
  }
 ],
 "metadata": {
  "kernelspec": {
   "display_name": "Python 3 (ipykernel)",
   "language": "python",
   "name": "python3"
  },
  "language_info": {
   "codemirror_mode": {
    "name": "ipython",
    "version": 3
   },
   "file_extension": ".py",
   "mimetype": "text/x-python",
   "name": "python",
   "nbconvert_exporter": "python",
   "pygments_lexer": "ipython3",
   "version": "3.9.6"
  }
 },
 "nbformat": 4,
 "nbformat_minor": 5
}
